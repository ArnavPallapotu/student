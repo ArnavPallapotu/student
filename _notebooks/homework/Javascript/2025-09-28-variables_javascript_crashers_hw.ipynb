{
 "cells": [
  {
   "cell_type": "raw",
   "id": "f7d70aa2",
   "metadata": {
    "vscode": {
     "languageId": "raw"
    }
   },
   "source": [
    "---\n",
    "layout: post\n",
    "title: \"3.1 Variables & Assignments hacks\"\n",
    "categories: [Programming Fundamentals, Tutorial]\n",
    "tags: [python, javascript, variables, assignment, beginner]\n",
    "description: Apply your understanding of Variables & Assignments with these hacks\n",
    "author: Aditya Srivastava, Laya Balaji\n",
    "permalink: /javascript/variables/crashers-hw\n",
    "---"
   ]
  },
  {
   "cell_type": "markdown",
   "id": "ce56910b",
   "metadata": {},
   "source": [
    "# 🐷 Peppa Maze Variables & Assignments Hacks\n",
    "Welcome to the Peppa Maze hacks! These challenges will test your understanding of variables, assignments, and logic in Javascript. Read each task, then write or modify code to solve it."
   ]
  },
  {
   "cell_type": "markdown",
   "id": "7dee3bb5",
   "metadata": {},
   "source": [
    "## Hack 1: JavaScript - Variable Assignment, Naming, and Operators\n",
    "Create variables for Peppa's name, score, and level using good JavaScript naming conventions. Assign initial values, then use operators to update score (add 10) and level (multiply by 2). Print all results."
   ]
  },
  {
   "cell_type": "code",
   "execution_count": 3,
   "id": "e4bee113",
   "metadata": {
    "vscode": {
     "languageId": "javascript"
    }
   },
   "outputs": [
    {
     "data": {
      "application/javascript": "// Write your code here\nlet name = \"Peppa\"\nlet score = 0\nlet level = 1\nscore = score + 10\nlevel = level * 2\n\nconsole.log(score)\nconsole.log(level)\n\n// Create variables for Peppa's name, score, and level\n// Use operators to update score and level\n",
      "text/plain": [
       "<IPython.core.display.Javascript object>"
      ]
     },
     "metadata": {},
     "output_type": "display_data"
    }
   ],
   "source": [
    "%%js\n",
    "// Write your code here\n",
    "let name = \"Peppa\"\n",
    "let score = 0\n",
    "let level = 1\n",
    "score = score + 10\n",
    "level = level * 2\n",
    "\n",
    "console.log(score)\n",
    "console.log(level)\n",
    "\n",
    "// Create variables for Peppa's name, score, and level\n",
    "// Use operators to update score and level\n"
   ]
  },
  {
   "cell_type": "markdown",
   "id": "3f8a5cbe",
   "metadata": {},
   "source": [
    "## Hack 2: JavaScript - Variable Declaration, Assignment, and Operators\n",
    "Declare variables for Peppa and George's scores using good JavaScript naming conventions. Assign initial values, then use operators to update both scores (e.g., Peppa gets 15 points, George loses 5 points). Print both scores."
   ]
  },
  {
   "cell_type": "code",
   "execution_count": 4,
   "id": "c4c80df3",
   "metadata": {
    "vscode": {
     "languageId": "javascript"
    }
   },
   "outputs": [
    {
     "data": {
      "application/javascript": "// Write your code here\n\nlet peppaScore = 0;\nlet georgeScore = 0;\npeppaScore = peppaScore + 15\ngeorgeScore = georgeScore - 5\nconsole.log(peppaScore);\nconsole.log(georgeScore);\n\n// Declare variables for Peppa and George's scores\n// Use operators to update both scores\n",
      "text/plain": [
       "<IPython.core.display.Javascript object>"
      ]
     },
     "metadata": {},
     "output_type": "display_data"
    }
   ],
   "source": [
    "%%js\n",
    "// Write your code here\n",
    "\n",
    "let peppaScore = 0;\n",
    "let georgeScore = 0;\n",
    "peppaScore = peppaScore + 15\n",
    "georgeScore = georgeScore - 5\n",
    "console.log(peppaScore);\n",
    "console.log(georgeScore);\n",
    "\n",
    "// Declare variables for Peppa and George's scores\n",
    "// Use operators to update both scores\n"
   ]
  },
  {
   "cell_type": "markdown",
   "id": "30580c24",
   "metadata": {},
   "source": [
    "## Hack 3: JavaScript - Multiple Assignment and Math Operators\n",
    "Peppa and George both start at level 1. Use a single line to assign both their levels to 5. Then, calculate a combined score by multiplying their levels together and multiplying by 10. Print all results."
   ]
  },
  {
   "cell_type": "code",
   "execution_count": 7,
   "id": "67774ff3",
   "metadata": {
    "vscode": {
     "languageId": "javascript"
    }
   },
   "outputs": [
    {
     "data": {
      "application/javascript": "// Write your code here\nlet peppaLevel = 1;\nlet georgeLevel = 1;\n\n\npeppaLevel = georgeLevel = 5;\nlet combinedScore = peppaLevel * georgeLevel * 10;\n\nconsole.log(peppaLevel, georgeLevel, combinedScore);\n// let peppaLevel = 1, georgeLevel = 1;\n// Assign both levels to 5 in one line\n// Calculate combinedScore = peppaLevel * georgeLevel * 10;\n// Print all results\n",
      "text/plain": [
       "<IPython.core.display.Javascript object>"
      ]
     },
     "metadata": {},
     "output_type": "display_data"
    }
   ],
   "source": [
    "%%js\n",
    "// Write your code here\n",
    "let peppaLevel = 1;\n",
    "let georgeLevel = 1;\n",
    "\n",
    "\n",
    "peppaLevel = georgeLevel = 5;\n",
    "let combinedScore = peppaLevel * georgeLevel * 10;\n",
    "\n",
    "console.log(peppaLevel, georgeLevel, combinedScore);\n",
    "// let peppaLevel = 1, georgeLevel = 1;\n",
    "// Assign both levels to 5 in one line\n",
    "// Calculate combinedScore = peppaLevel * georgeLevel * 10;\n",
    "// Print all results"
   ]
  }
 ],
 "metadata": {
  "kernelspec": {
   "display_name": "venv",
   "language": "python",
   "name": "python3"
  },
  "language_info": {
   "codemirror_mode": {
    "name": "ipython",
    "version": 3
   },
   "file_extension": ".py",
   "mimetype": "text/x-python",
   "name": "python",
   "nbconvert_exporter": "python",
   "pygments_lexer": "ipython3",
   "version": "3.12.3"
  }
 },
 "nbformat": 4,
 "nbformat_minor": 5
}
