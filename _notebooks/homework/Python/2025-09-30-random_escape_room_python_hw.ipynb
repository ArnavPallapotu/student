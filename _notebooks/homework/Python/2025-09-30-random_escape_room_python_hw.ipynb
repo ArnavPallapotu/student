{
 "cells": [
  {
   "cell_type": "raw",
   "id": "6e07d1a7",
   "metadata": {
    "vscode": {
     "languageId": "raw"
    }
   },
   "source": [
    "---\n",
    "layout: post\n",
    "title: \"Escape Room 3.15 - Hacks & Extensions\"\n",
    "description: \"Extended Python challenges and hacks for CSP 3.15 Escape Room - Random Values\"\n",
    "type: hacks\n",
    "toc: true\n",
    "comments: true\n",
    "permalink: /3.15/homework/python\n",
    "author: Team Debuggers\n",
    "---\n"
   ]
  },
  {
   "cell_type": "markdown",
   "id": "9f874417",
   "metadata": {},
   "source": [
    "# 🚀 Escape Room Python Hacks\n"
   ]
  },
  {
   "cell_type": "markdown",
   "id": "7aedbe34",
   "metadata": {},
   "source": [
    "1. Simulate rolling two dice and show all possible sums of their outcomes."
   ]
  },
  {
   "cell_type": "code",
   "execution_count": null,
   "id": "a73638bf",
   "metadata": {},
   "outputs": [
    {
     "name": "stdout",
     "output_type": "stream",
     "text": [
      "All possible sums (unique): [2, 3, 4, 5, 6, 7, 8, 9, 10, 11, 12]\n",
      "Frequencies for each sum:\n",
      "  2: 1\n",
      "  3: 2\n",
      "  4: 3\n",
      "  5: 4\n",
      "  6: 5\n",
      "  7: 6\n",
      "  8: 5\n",
      "  9: 4\n",
      "  10: 3\n",
      "  11: 2\n",
      "  12: 1\n"
     ]
    }
   ],
   "source": [
    "# 🎲 Die faces: 1, 2, 3, 4, 5, 6\n",
    "# TODO: Write code to calculate and display all possible sums\n",
    "# Hint: You may need two nested loops\n",
    "\n",
    "sums = []\n",
    "combinations = []\n",
    "\n",
    "for d1 in range(1, 7):\n",
    "    for d2 in range(1, 7):\n",
    "        total = d1 + d2\n",
    "        sums.append(total)\n",
    "        combinations.append((d1, d2, total))\n",
    "\n",
    "# Print each combination and its sum\n",
    "for d1, d2, total in combinations:\n",
    "    print(f\"{d1} + {d2} = {total}\")\n",
    "\n",
    "unique_sums = sorted(set(sums))"
   ]
  },
  {
   "cell_type": "markdown",
   "id": "323ac43a",
   "metadata": {},
   "source": [
    "2. Create a fortune teller program. The response \"Try Again\" should appear 40% of the time, while the other possible responses are \"Yes\", \"No\", and \"Maybe\"."
   ]
  },
  {
   "cell_type": "code",
   "execution_count": 15,
   "id": "c608c7e8",
   "metadata": {},
   "outputs": [
    {
     "name": "stdout",
     "output_type": "stream",
     "text": [
      "Maybe\n"
     ]
    }
   ],
   "source": [
    "import random\n",
    "\n",
    "# 🔮 Fortune Teller\n",
    "# TODO: Generate a random number between 1 and 100\n",
    "num = random.randint(1, 100)\n",
    "if num <= 40:\n",
    "    print(\"Try Again\")\n",
    "elif num <=60:\n",
    "    print(\"Yes\")\n",
    "elif num <=80:\n",
    "    print(\"No\")\n",
    "else:\n",
    "    print(\"Maybe\")\n"
   ]
  },
  {
   "cell_type": "markdown",
   "id": "f5f6ad02",
   "metadata": {},
   "source": [
    "3. Create a program that randomly selects a meal from a menu list. For example: \"Pizza\", \"Burger\", \"Salad\", \"Pasta\", \"Sushi\"."
   ]
  },
  {
   "cell_type": "code",
   "execution_count": 21,
   "id": "623d5cec",
   "metadata": {},
   "outputs": [
    {
     "name": "stdout",
     "output_type": "stream",
     "text": [
      "Today's meal is: Pasta\n"
     ]
    }
   ],
   "source": [
    "import random\n",
    "\n",
    "# 🍔 Menu list of meals\n",
    "meals = [\"Burger\", \"Pizza\", \"Salad\", \"Sushi\", \"Pasta\", \"Tacos\", \"Biriyani\"]\n",
    "\n",
    "meal_choice = random.choice(meals)\n",
    "print(\"Today's meal is:\", meal_choice)\n",
    "\n",
    "# TODO: Pick one random meal from the list\n"
   ]
  },
  {
   "cell_type": "markdown",
   "id": "e230199d",
   "metadata": {},
   "source": [
    "4. Practice using random.choice() and random.shuffle().\n",
    "\n",
    "- Use random.choice() to select one random card from a deck.\n",
    "\n",
    "- Use random.shuffle() to shuffle the entire deck."
   ]
  },
  {
   "cell_type": "code",
   "execution_count": 23,
   "id": "9efcd451",
   "metadata": {},
   "outputs": [
    {
     "name": "stdout",
     "output_type": "stream",
     "text": [
      "Card chosen: 6\n",
      "Shuffled deck: [1, 4, 7, 8, 10, 9, 3, 2, 5, 6]\n"
     ]
    }
   ],
   "source": [
    "import random\n",
    "\n",
    "# 🃏 Deck of cards (simplified as numbers 1–10 for this example)\n",
    "deck = [1,2,3,4,5,6,7,8,9,10]\n",
    "\n",
    "card_chosen = random.choice(deck)\n",
    "print(\"Card chosen:\", card_chosen)\n",
    "\n",
    "random.shuffle(deck)\n",
    "print(\"Shuffled deck:\", deck)\n",
    "# TODO: Use random.choice() to pick one card\n",
    "# TODO: Use random.shuffle() to shuffle the deck and print it\n"
   ]
  },
  {
   "cell_type": "code",
   "execution_count": null,
   "id": "4af2394b",
   "metadata": {},
   "outputs": [],
   "source": []
  }
 ],
 "metadata": {
  "kernelspec": {
   "display_name": "venv",
   "language": "python",
   "name": "python3"
  },
  "language_info": {
   "codemirror_mode": {
    "name": "ipython",
    "version": 3
   },
   "file_extension": ".py",
   "mimetype": "text/x-python",
   "name": "python",
   "nbconvert_exporter": "python",
   "pygments_lexer": "ipython3",
   "version": "3.12.3"
  }
 },
 "nbformat": 4,
 "nbformat_minor": 5
}
